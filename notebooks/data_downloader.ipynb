{
 "cells": [
  {
   "cell_type": "code",
   "execution_count": 11,
   "id": "8cedc685-2a0d-4f9a-8c7c-12b17369a311",
   "metadata": {},
   "outputs": [],
   "source": [
    "import ubiquant"
   ]
  },
  {
   "cell_type": "code",
   "execution_count": 13,
   "id": "955b672a-6657-4ce5-ac6b-a75ba6c0676d",
   "metadata": {},
   "outputs": [],
   "source": [
    "sc = SparkContext.getOrCreate()"
   ]
  },
  {
   "cell_type": "code",
   "execution_count": null,
   "id": "48c4c907-5074-491c-8816-150dc22d54e6",
   "metadata": {},
   "outputs": [],
   "source": []
  }
 ],
 "metadata": {
  "kernelspec": {
   "display_name": "Python 3 (ipykernel)",
   "language": "python",
   "name": "python3"
  },
  "language_info": {
   "codemirror_mode": {
    "name": "ipython",
    "version": 3
   },
   "file_extension": ".py",
   "mimetype": "text/x-python",
   "name": "python",
   "nbconvert_exporter": "python",
   "pygments_lexer": "ipython3",
   "version": "3.7.11"
  }
 },
 "nbformat": 4,
 "nbformat_minor": 5
}
